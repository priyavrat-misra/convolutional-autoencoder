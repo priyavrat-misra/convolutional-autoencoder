{
  "nbformat": 4,
  "nbformat_minor": 0,
  "metadata": {
    "language_info": {
      "codemirror_mode": {
        "name": "ipython",
        "version": 3
      },
      "file_extension": ".py",
      "mimetype": "text/x-python",
      "name": "python",
      "nbconvert_exporter": "python",
      "pygments_lexer": "ipython3",
      "version": "3.8.5-final"
    },
    "orig_nbformat": 2,
    "kernelspec": {
      "name": "python3",
      "display_name": "Python 3"
    },
    "colab": {
      "name": "train.ipynb",
      "provenance": []
    },
    "accelerator": "GPU"
  },
  "cells": [
    {
      "cell_type": "code",
      "metadata": {
        "id": "nyRpwMqjx1Q3"
      },
      "source": [
        "# import libraries\n",
        "import torch\n",
        "import torch.nn as nn\n",
        "import torch.optim as optim\n",
        "\n",
        "import torchvision\n",
        "import torchvision.transforms as transforms\n",
        "\n",
        "import numpy as np\n",
        "import matplotlib.pyplot as plt\n",
        "from tqdm import tqdm\n",
        "\n",
        "from network import ConvAutoEncoder\n",
        "from models.pretrained.network import Network"
      ],
      "execution_count": 1,
      "outputs": []
    },
    {
      "cell_type": "code",
      "metadata": {
        "id": "Sxcuy3TDx1RI"
      },
      "source": [
        "# set available device\n",
        "device = torch.device('cuda:0' if torch.cuda.is_available() else 'cpu')"
      ],
      "execution_count": 2,
      "outputs": []
    },
    {
      "cell_type": "code",
      "metadata": {
        "id": "zH2y1Rt2x1RN"
      },
      "source": [
        "# extract and transform the data\n",
        "train_set = torchvision.datasets.MNIST(\n",
        "    root='./data/',\n",
        "    train=True,\n",
        "    download=True,\n",
        "    transform=transforms.ToTensor()\n",
        ")\n",
        "test_set = torchvision.datasets.MNIST(\n",
        "    root='./data/',\n",
        "    train=False,\n",
        "    download=True,\n",
        "    transform=transforms.ToTensor()\n",
        ")\n",
        "\n",
        "train_loader = torch.utils.data.DataLoader(train_set, batch_size=256, shuffle=True, num_workers=1)\n",
        "test_loader = torch.utils.data.DataLoader(test_set, batch_size=256, num_workers=1)"
      ],
      "execution_count": 3,
      "outputs": []
    },
    {
      "cell_type": "code",
      "metadata": {
        "id": "ghqKHsdfx1RR",
        "outputId": "f08b2e2a-6fbe-4fb6-a7c6-ac42bb2b9537",
        "colab": {
          "base_uri": "https://localhost:8080/"
        }
      },
      "source": [
        "pretrained_model = Network()\n",
        "pretrained_model.load_state_dict(\n",
        "    torch.load(f'models/pretrained/model-run(lr=0.001, batch_size=256).ckpt', map_location=device)\n",
        "    )\n",
        "# print(list(list(pretrained_model.features.children())[0].parameters()))\n",
        "model = ConvAutoEncoder(pretrained_model)\n",
        "# print(list(list(denoiser.children())[0].parameters()))\n",
        "model"
      ],
      "execution_count": 4,
      "outputs": [
        {
          "output_type": "execute_result",
          "data": {
            "text/plain": [
              "ConvAutoEncoder(\n",
              "  (encoder): Sequential(\n",
              "    (0): Sequential(\n",
              "      (0): Conv2d(1, 16, kernel_size=(5, 5), stride=(1, 1), padding=(2, 2))\n",
              "      (1): BatchNorm2d(16, eps=1e-05, momentum=0.1, affine=True, track_running_stats=True)\n",
              "      (2): ReLU()\n",
              "      (3): MaxPool2d(kernel_size=2, stride=2, padding=0, dilation=1, ceil_mode=False)\n",
              "    )\n",
              "    (1): Sequential(\n",
              "      (0): Conv2d(16, 32, kernel_size=(5, 5), stride=(1, 1), padding=(2, 2))\n",
              "      (1): BatchNorm2d(32, eps=1e-05, momentum=0.1, affine=True, track_running_stats=True)\n",
              "      (2): ReLU()\n",
              "      (3): MaxPool2d(kernel_size=2, stride=2, padding=0, dilation=1, ceil_mode=False)\n",
              "    )\n",
              "  )\n",
              "  (compressor): Sequential(\n",
              "    (0): Conv2d(32, 4, kernel_size=(3, 3), stride=(1, 1), padding=(1, 1))\n",
              "    (1): BatchNorm2d(4, eps=1e-05, momentum=0.1, affine=True, track_running_stats=True)\n",
              "    (2): ReLU()\n",
              "  )\n",
              "  (decoder): Sequential(\n",
              "    (0): Conv2d(4, 32, kernel_size=(3, 3), stride=(1, 1), padding=(1, 1))\n",
              "    (1): BatchNorm2d(32, eps=1e-05, momentum=0.1, affine=True, track_running_stats=True)\n",
              "    (2): ReLU()\n",
              "    (3): Upsample(scale_factor=2.0, mode=nearest)\n",
              "    (4): Conv2d(32, 16, kernel_size=(5, 5), stride=(1, 1), padding=(2, 2))\n",
              "    (5): BatchNorm2d(16, eps=1e-05, momentum=0.1, affine=True, track_running_stats=True)\n",
              "    (6): ReLU()\n",
              "    (7): Upsample(scale_factor=2.0, mode=nearest)\n",
              "    (8): Conv2d(16, 1, kernel_size=(5, 5), stride=(1, 1), padding=(2, 2))\n",
              "    (9): BatchNorm2d(1, eps=1e-05, momentum=0.1, affine=True, track_running_stats=True)\n",
              "    (10): Sigmoid()\n",
              "  )\n",
              ")"
            ]
          },
          "metadata": {
            "tags": []
          },
          "execution_count": 4
        }
      ]
    },
    {
      "cell_type": "code",
      "metadata": {
        "id": "rF9qoCYCx1RX"
      },
      "source": [
        "for param in model.encoder.parameters():\n",
        "    param.requires_grad = False"
      ],
      "execution_count": 5,
      "outputs": []
    },
    {
      "cell_type": "code",
      "metadata": {
        "id": "IaF7xNRBx1Rb"
      },
      "source": [
        "model.to(device)\n",
        "criterion = nn.MSELoss()\n",
        "params = list(model.compressor.parameters()) + list(model.decoder.parameters()) \n",
        "optimizer = optim.Adam(params, lr=0.01)\n",
        "scheduler = optim.lr_scheduler.ReduceLROnPlateau(optimizer, factor=1/3, patience=3, verbose=True)"
      ],
      "execution_count": 6,
      "outputs": []
    },
    {
      "cell_type": "code",
      "metadata": {
        "id": "_DBSjHLux1Rf",
        "outputId": "5489c6c9-2853-4023-871a-d5b7435e2abd",
        "colab": {
          "base_uri": "https://localhost:8080/"
        }
      },
      "source": [
        "num_epochs = 40\n",
        "for epoch in range(num_epochs):\n",
        "    train_loss = 0\n",
        "    ###################\n",
        "    # train the model #\n",
        "    ###################\n",
        "    loop = tqdm(train_loader, total=len(train_loader))\n",
        "    for batch in loop:\n",
        "        images, _ = batch[0].to(device), batch[1]\n",
        "        outputs = model(images)\n",
        "        loss = criterion(outputs, images)\n",
        "        optimizer.zero_grad()\n",
        "        loss.backward()\n",
        "        optimizer.step()\n",
        "\n",
        "        train_loss += loss.item()*images.size(0)\n",
        "        loop.set_description(f'Epoch [{epoch+1}/{num_epochs}]')\n",
        "        loop.set_postfix(loss=train_loss)\n",
        "\n",
        "    scheduler.step(train_loss)"
      ],
      "execution_count": 7,
      "outputs": [
        {
          "output_type": "stream",
          "text": [
            "Epoch [1/40]: 100%|██████████| 235/235 [00:07<00:00, 32.82it/s, loss=3.34e+3]\n",
            "Epoch [2/40]: 100%|██████████| 235/235 [00:06<00:00, 33.98it/s, loss=748]\n",
            "Epoch [3/40]: 100%|██████████| 235/235 [00:07<00:00, 32.23it/s, loss=510]\n",
            "Epoch [4/40]: 100%|██████████| 235/235 [00:07<00:00, 32.48it/s, loss=417]\n",
            "Epoch [5/40]: 100%|██████████| 235/235 [00:06<00:00, 34.19it/s, loss=367]\n",
            "Epoch [6/40]: 100%|██████████| 235/235 [00:06<00:00, 34.20it/s, loss=334]\n",
            "Epoch [7/40]: 100%|██████████| 235/235 [00:06<00:00, 34.94it/s, loss=309]\n",
            "Epoch [8/40]: 100%|██████████| 235/235 [00:07<00:00, 33.54it/s, loss=292]\n",
            "Epoch [9/40]: 100%|██████████| 235/235 [00:07<00:00, 32.66it/s, loss=282]\n",
            "Epoch [10/40]: 100%|██████████| 235/235 [00:07<00:00, 33.43it/s, loss=273]\n",
            "Epoch [11/40]: 100%|██████████| 235/235 [00:06<00:00, 33.60it/s, loss=267]\n",
            "Epoch [12/40]: 100%|██████████| 235/235 [00:06<00:00, 33.58it/s, loss=262]\n",
            "Epoch [13/40]: 100%|██████████| 235/235 [00:07<00:00, 33.38it/s, loss=258]\n",
            "Epoch [14/40]: 100%|██████████| 235/235 [00:06<00:00, 34.00it/s, loss=255]\n",
            "Epoch [15/40]: 100%|██████████| 235/235 [00:06<00:00, 33.79it/s, loss=252]\n",
            "Epoch [16/40]: 100%|██████████| 235/235 [00:06<00:00, 34.48it/s, loss=249]\n",
            "Epoch [17/40]: 100%|██████████| 235/235 [00:06<00:00, 34.50it/s, loss=247]\n",
            "Epoch [18/40]: 100%|██████████| 235/235 [00:06<00:00, 33.94it/s, loss=245]\n",
            "Epoch [19/40]: 100%|██████████| 235/235 [00:06<00:00, 34.53it/s, loss=243]\n",
            "Epoch [20/40]: 100%|██████████| 235/235 [00:06<00:00, 33.80it/s, loss=240]\n",
            "Epoch [21/40]: 100%|██████████| 235/235 [00:06<00:00, 34.50it/s, loss=240]\n",
            "Epoch [22/40]: 100%|██████████| 235/235 [00:06<00:00, 34.32it/s, loss=239]\n",
            "Epoch [23/40]: 100%|██████████| 235/235 [00:07<00:00, 33.30it/s, loss=237]\n",
            "Epoch [24/40]: 100%|██████████| 235/235 [00:06<00:00, 33.88it/s, loss=236]\n",
            "Epoch [25/40]: 100%|██████████| 235/235 [00:06<00:00, 34.26it/s, loss=236]\n",
            "Epoch [26/40]: 100%|██████████| 235/235 [00:07<00:00, 32.54it/s, loss=233]\n",
            "Epoch [27/40]: 100%|██████████| 235/235 [00:06<00:00, 33.89it/s, loss=234]\n",
            "Epoch [28/40]: 100%|██████████| 235/235 [00:06<00:00, 34.29it/s, loss=232]\n",
            "Epoch [29/40]: 100%|██████████| 235/235 [00:07<00:00, 32.59it/s, loss=232]\n",
            "Epoch [30/40]: 100%|██████████| 235/235 [00:06<00:00, 34.57it/s, loss=232]\n",
            "Epoch [31/40]: 100%|██████████| 235/235 [00:06<00:00, 33.76it/s, loss=231]\n",
            "Epoch [32/40]: 100%|██████████| 235/235 [00:06<00:00, 33.58it/s, loss=230]\n",
            "Epoch [33/40]: 100%|██████████| 235/235 [00:07<00:00, 33.26it/s, loss=231]\n",
            "Epoch [34/40]: 100%|██████████| 235/235 [00:06<00:00, 33.59it/s, loss=229]\n",
            "Epoch [35/40]: 100%|██████████| 235/235 [00:06<00:00, 33.70it/s, loss=228]\n",
            "Epoch [36/40]: 100%|██████████| 235/235 [00:06<00:00, 34.42it/s, loss=228]\n",
            "Epoch [37/40]: 100%|██████████| 235/235 [00:07<00:00, 32.66it/s, loss=228]\n",
            "Epoch [38/40]: 100%|██████████| 235/235 [00:06<00:00, 33.88it/s, loss=228]\n",
            "Epoch [39/40]: 100%|██████████| 235/235 [00:07<00:00, 33.51it/s, loss=228]\n",
            "Epoch [40/40]: 100%|██████████| 235/235 [00:07<00:00, 33.47it/s, loss=227]\n"
          ],
          "name": "stderr"
        }
      ]
    },
    {
      "cell_type": "code",
      "metadata": {
        "id": "83ilBoAWx1Ri"
      },
      "source": [
        "torch.save(model.state_dict(), 'models/model-autoencoder.pth')"
      ],
      "execution_count": 8,
      "outputs": []
    },
    {
      "cell_type": "code",
      "metadata": {
        "id": "6UMgy-ak1DJt",
        "outputId": "39b35a75-a5bd-4066-a117-981de17f7a69",
        "colab": {
          "base_uri": "https://localhost:8080/",
          "height": 233
        }
      },
      "source": [
        "# obtain one batch of test images\n",
        "images, labels = next(iter(test_loader))\n",
        "images = images.to(device)\n",
        "\n",
        "# get sample outputs\n",
        "output = model(images)\n",
        "# prep images for display\n",
        "images = images.cpu().numpy()\n",
        "\n",
        "# use detach when it's an output that requires_grad\n",
        "output = output.detach().cpu().numpy()\n",
        "\n",
        "# plot the first ten input images and then reconstructed images\n",
        "fig, axes = plt.subplots(nrows=2, ncols=10, sharex=True, sharey=True, figsize=(25,4))\n",
        "\n",
        "# input images on top row, reconstructions on bottom\n",
        "for images, row in zip([images, output], axes):\n",
        "    for img, ax in zip(images, row):\n",
        "        ax.imshow(np.squeeze(img), cmap='gray')\n",
        "        ax.get_xaxis().set_visible(False)\n",
        "        ax.get_yaxis().set_visible(False)"
      ],
      "execution_count": 11,
      "outputs": [
        {
          "output_type": "display_data",
          "data": {
            "image/png": "[encoded data removed]",
            "text/plain": [
              "<Figure size 1800x288 with 20 Axes>"
            ]
          },
          "metadata": {
            "tags": [],
            "needs_background": "light"
          }
        }
      ]
    }
  ]
}