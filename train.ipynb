{
  "nbformat": 4,
  "nbformat_minor": 0,
  "metadata": {
    "language_info": {
      "codemirror_mode": {
        "name": "ipython",
        "version": 3
      },
      "file_extension": ".py",
      "mimetype": "text/x-python",
      "name": "python",
      "nbconvert_exporter": "python",
      "pygments_lexer": "ipython3",
      "version": "3.8.5-final"
    },
    "orig_nbformat": 2,
    "kernelspec": {
      "name": "python3",
      "display_name": "Python 3"
    },
    "colab": {
      "name": "train.ipynb",
      "provenance": [],
      "collapsed_sections": []
    },
    "accelerator": "GPU"
  },
  "cells": [
    {
      "cell_type": "code",
      "metadata": {
        "id": "nyRpwMqjx1Q3"
      },
      "source": [
        "# import libraries\n",
        "import torch\n",
        "import torch.nn as nn\n",
        "import torch.optim as optim\n",
        "\n",
        "import torchvision\n",
        "import torchvision.transforms as transforms\n",
        "\n",
        "import numpy as np\n",
        "import matplotlib.pyplot as plt\n",
        "from tqdm import tqdm\n",
        "\n",
        "from network import ConvAutoEncoder\n",
        "from models.pretrained.network import Network"
      ],
      "execution_count": 1,
      "outputs": []
    },
    {
      "cell_type": "code",
      "metadata": {
        "id": "Sxcuy3TDx1RI"
      },
      "source": [
        "# set available device\n",
        "device = torch.device('cuda:0' if torch.cuda.is_available() else 'cpu')"
      ],
      "execution_count": 2,
      "outputs": []
    },
    {
      "cell_type": "code",
      "metadata": {
        "id": "zH2y1Rt2x1RN"
      },
      "source": [
        "# extract and transform the data\n",
        "train_set = torchvision.datasets.MNIST(\n",
        "    root='./data/',\n",
        "    train=True,\n",
        "    download=True,\n",
        "    transform=transforms.ToTensor()\n",
        ")\n",
        "test_set = torchvision.datasets.MNIST(\n",
        "    root='./data/',\n",
        "    train=False,\n",
        "    download=True,\n",
        "    transform=transforms.ToTensor()\n",
        ")\n",
        "\n",
        "train_loader = torch.utils.data.DataLoader(train_set, batch_size=256, shuffle=True, num_workers=1)\n",
        "test_loader = torch.utils.data.DataLoader(test_set, batch_size=32, num_workers=1)"
      ],
      "execution_count": 3,
      "outputs": []
    },
    {
      "cell_type": "code",
      "metadata": {
        "id": "ghqKHsdfx1RR",
        "outputId": "c6b74307-c2f6-4bea-85ba-e9cfc39ab0f3",
        "colab": {
          "base_uri": "https://localhost:8080/"
        }
      },
      "source": [
        "# load the model we trained in the MNIST project for the encoder part\n",
        "pretrained_model = Network()\n",
        "pretrained_model.load_state_dict(\n",
        "    torch.load(f'models/pretrained/model-run(lr=0.001, batch_size=256).ckpt', map_location=device)\n",
        "    )\n",
        "model = ConvAutoEncoder(pretrained_model)\n",
        "model"
      ],
      "execution_count": 4,
      "outputs": [
        {
          "output_type": "execute_result",
          "data": {
            "text/plain": [
              "ConvAutoEncoder(\n",
              "  (encoder): Sequential(\n",
              "    (0): Conv2d(1, 16, kernel_size=(5, 5), stride=(1, 1), padding=(2, 2))\n",
              "    (1): BatchNorm2d(16, eps=1e-05, momentum=0.1, affine=True, track_running_stats=True)\n",
              "    (2): ReLU()\n",
              "    (3): MaxPool2d(kernel_size=2, stride=2, padding=0, dilation=1, ceil_mode=False)\n",
              "    (4): Conv2d(16, 32, kernel_size=(5, 5), stride=(1, 1), padding=(2, 2))\n",
              "    (5): BatchNorm2d(32, eps=1e-05, momentum=0.1, affine=True, track_running_stats=True)\n",
              "    (6): ReLU()\n",
              "    (7): MaxPool2d(kernel_size=2, stride=2, padding=0, dilation=1, ceil_mode=False)\n",
              "    (8): Conv2d(32, 4, kernel_size=(3, 3), stride=(1, 1), padding=(1, 1))\n",
              "    (9): BatchNorm2d(4, eps=1e-05, momentum=0.1, affine=True, track_running_stats=True)\n",
              "    (10): ReLU()\n",
              "  )\n",
              "  (decoder): Sequential(\n",
              "    (0): Conv2d(4, 32, kernel_size=(3, 3), stride=(1, 1), padding=(1, 1))\n",
              "    (1): BatchNorm2d(32, eps=1e-05, momentum=0.1, affine=True, track_running_stats=True)\n",
              "    (2): ReLU()\n",
              "    (3): Upsample(scale_factor=2.0, mode=nearest)\n",
              "    (4): Conv2d(32, 16, kernel_size=(5, 5), stride=(1, 1), padding=(2, 2))\n",
              "    (5): BatchNorm2d(16, eps=1e-05, momentum=0.1, affine=True, track_running_stats=True)\n",
              "    (6): ReLU()\n",
              "    (7): Upsample(scale_factor=2.0, mode=nearest)\n",
              "    (8): Conv2d(16, 1, kernel_size=(5, 5), stride=(1, 1), padding=(2, 2))\n",
              "    (9): BatchNorm2d(1, eps=1e-05, momentum=0.1, affine=True, track_running_stats=True)\n",
              "    (10): Sigmoid()\n",
              "  )\n",
              ")"
            ]
          },
          "metadata": {
            "tags": []
          },
          "execution_count": 4
        }
      ]
    },
    {
      "cell_type": "code",
      "metadata": {
        "id": "g0n7T68B6BOM",
        "outputId": "0ddcd0ac-5883-41b0-8f39-7e5c79401814",
        "colab": {
          "base_uri": "https://localhost:8080/"
        }
      },
      "source": [
        "# to check if our weight transfer was successful or not\n",
        "list(list(pretrained_model.layer2.children())[0].parameters()) == list(list(model.encoder.children())[4].parameters())\n",
        "# or \"False in (list(pretrained_model.layer1.children())[0].weight == list(model.encoder.children())[0].weight)\" --> False"
      ],
      "execution_count": 5,
      "outputs": [
        {
          "output_type": "execute_result",
          "data": {
            "text/plain": [
              "True"
            ]
          },
          "metadata": {
            "tags": []
          },
          "execution_count": 5
        }
      ]
    },
    {
      "cell_type": "code",
      "metadata": {
        "id": "rF9qoCYCx1RX"
      },
      "source": [
        "# freeze the transferred weights\n",
        "layers = list(model.encoder.children())[:8]\n",
        "for layer in layers:\n",
        "    layer.requires_grad = False"
      ],
      "execution_count": 5,
      "outputs": []
    },
    {
      "cell_type": "code",
      "metadata": {
        "id": "IaF7xNRBx1Rb"
      },
      "source": [
        "model.to(device)\n",
        "criterion = nn.MSELoss()\n",
        "optimizer = optim.Adam([  # parameters which need training\n",
        "                        {'params':model.encoder[8:].parameters()},\n",
        "                        {'params':model.decoder.parameters()}\n",
        "                        ], lr=0.01)\n",
        "scheduler = optim.lr_scheduler.ReduceLROnPlateau(optimizer, factor=1/3, patience=3, verbose=True)"
      ],
      "execution_count": 6,
      "outputs": []
    },
    {
      "cell_type": "code",
      "metadata": {
        "id": "_DBSjHLux1Rf",
        "outputId": "9ac0620f-f10f-481c-a534-cc42d69ef490",
        "colab": {
          "base_uri": "https://localhost:8080/"
        }
      },
      "source": [
        "num_epochs = 30\n",
        "for epoch in range(num_epochs):\n",
        "    train_loss = 0\n",
        "    ###################\n",
        "    # train the model #\n",
        "    ###################\n",
        "    loop = tqdm(train_loader, total=len(train_loader))\n",
        "    for batch in loop:\n",
        "        images = batch[0].to(device)\n",
        "        _, outputs = model(images)\n",
        "        loss = criterion(outputs, images)\n",
        "        optimizer.zero_grad()\n",
        "        loss.backward()\n",
        "        optimizer.step()\n",
        "\n",
        "        train_loss += loss.item()*images.size(0)\n",
        "        loop.set_description(f'Epoch [{epoch+1:2d}/{num_epochs}]')\n",
        "        loop.set_postfix(loss=train_loss)\n",
        "\n",
        "    scheduler.step(train_loss)"
      ],
      "execution_count": 7,
      "outputs": [
        {
          "output_type": "stream",
          "text": [
            "Epoch [ 1/30]: 100%|██████████| 235/235 [00:07<00:00, 29.51it/s, loss=3.2e+3]\n",
            "Epoch [ 2/30]: 100%|██████████| 235/235 [00:07<00:00, 29.66it/s, loss=678]\n",
            "Epoch [ 3/30]: 100%|██████████| 235/235 [00:07<00:00, 29.70it/s, loss=460]\n",
            "Epoch [ 4/30]: 100%|██████████| 235/235 [00:07<00:00, 29.87it/s, loss=381]\n",
            "Epoch [ 5/30]: 100%|██████████| 235/235 [00:07<00:00, 30.03it/s, loss=340]\n",
            "Epoch [ 6/30]: 100%|██████████| 235/235 [00:07<00:00, 30.14it/s, loss=314]\n",
            "Epoch [ 7/30]: 100%|██████████| 235/235 [00:07<00:00, 29.98it/s, loss=297]\n",
            "Epoch [ 8/30]: 100%|██████████| 235/235 [00:07<00:00, 30.08it/s, loss=283]\n",
            "Epoch [ 9/30]: 100%|██████████| 235/235 [00:07<00:00, 30.17it/s, loss=275]\n",
            "Epoch [10/30]: 100%|██████████| 235/235 [00:07<00:00, 30.17it/s, loss=266]\n",
            "Epoch [11/30]: 100%|██████████| 235/235 [00:07<00:00, 29.98it/s, loss=262]\n",
            "Epoch [12/30]: 100%|██████████| 235/235 [00:07<00:00, 30.12it/s, loss=257]\n",
            "Epoch [13/30]: 100%|██████████| 235/235 [00:07<00:00, 29.95it/s, loss=255]\n",
            "Epoch [14/30]: 100%|██████████| 235/235 [00:07<00:00, 29.81it/s, loss=252]\n",
            "Epoch [15/30]: 100%|██████████| 235/235 [00:07<00:00, 30.04it/s, loss=250]\n",
            "Epoch [16/30]: 100%|██████████| 235/235 [00:07<00:00, 30.23it/s, loss=249]\n",
            "Epoch [17/30]: 100%|██████████| 235/235 [00:07<00:00, 30.26it/s, loss=247]\n",
            "Epoch [18/30]: 100%|██████████| 235/235 [00:07<00:00, 30.15it/s, loss=243]\n",
            "Epoch [19/30]: 100%|██████████| 235/235 [00:07<00:00, 30.32it/s, loss=240]\n",
            "Epoch [20/30]: 100%|██████████| 235/235 [00:07<00:00, 30.27it/s, loss=240]\n",
            "Epoch [21/30]: 100%|██████████| 235/235 [00:07<00:00, 30.40it/s, loss=239]\n",
            "Epoch [22/30]: 100%|██████████| 235/235 [00:07<00:00, 30.55it/s, loss=238]\n",
            "Epoch [23/30]: 100%|██████████| 235/235 [00:07<00:00, 30.53it/s, loss=238]\n",
            "Epoch [24/30]: 100%|██████████| 235/235 [00:07<00:00, 30.78it/s, loss=237]\n",
            "Epoch [25/30]: 100%|██████████| 235/235 [00:07<00:00, 30.53it/s, loss=237]\n",
            "Epoch [26/30]: 100%|██████████| 235/235 [00:07<00:00, 30.79it/s, loss=234]\n",
            "Epoch [27/30]: 100%|██████████| 235/235 [00:07<00:00, 30.56it/s, loss=234]\n",
            "Epoch [28/30]: 100%|██████████| 235/235 [00:07<00:00, 30.58it/s, loss=234]\n",
            "Epoch [29/30]: 100%|██████████| 235/235 [00:07<00:00, 30.59it/s, loss=234]\n",
            "Epoch [30/30]: 100%|██████████| 235/235 [00:07<00:00, 30.84it/s, loss=232]\n"
          ],
          "name": "stderr"
        }
      ]
    },
    {
      "cell_type": "code",
      "metadata": {
        "id": "83ilBoAWx1Ri"
      },
      "source": [
        "# save the model\n",
        "torch.save(model.state_dict(), 'models/model-autoencoder.pth')"
      ],
      "execution_count": 8,
      "outputs": []
    },
    {
      "cell_type": "code",
      "metadata": {
        "id": "6UMgy-ak1DJt",
        "outputId": "b37b0004-a403-44ac-895a-004450f04f4c",
        "colab": {
          "base_uri": "https://localhost:8080/",
          "height": 233
        }
      },
      "source": [
        "# obtain one batch of test images\n",
        "images, labels = next(iter(test_loader))\n",
        "images = images.to(device)\n",
        "\n",
        "# get sample outputs\n",
        "encoded_imgs, decoded_imgs = model(images)\n",
        "# prep images for display\n",
        "images = images.cpu().numpy()\n",
        "\n",
        "# use detach when it's an output that requires_grad\n",
        "encoded_imgs = encoded_imgs.detach().cpu().numpy()\n",
        "decoded_imgs = decoded_imgs.detach().cpu().numpy()\n",
        "\n",
        "# plot the first ten input images and then reconstructed images\n",
        "fig, axes = plt.subplots(nrows=2, ncols=10, sharex=True, sharey=True, figsize=(25,4))\n",
        "\n",
        "# input images on top row, reconstructions on bottom\n",
        "for images, row in zip([images, decoded_imgs], axes):\n",
        "    for img, ax in zip(images, row):\n",
        "        ax.imshow(np.squeeze(img), cmap='gray')\n",
        "        ax.get_xaxis().set_visible(False)\n",
        "        ax.get_yaxis().set_visible(False)\n",
        "\n",
        "plt.show()\n",
        "fig.savefig('original_decoded.png', bbox_inches='tight')\n",
        "plt.close()"
      ],
      "execution_count": 9,
      "outputs": [
        {
          "output_type": "display_data",
          "data": {
            "image/png": "[encoded data removed]",
            "text/plain": [
              "<Figure size 1800x288 with 20 Axes>"
            ]
          },
          "metadata": {
            "tags": [],
            "needs_background": "light"
          }
        }
      ]
    },
    {
      "cell_type": "code",
      "metadata": {
        "id": "7k6sF-gRMzL2",
        "outputId": "0a624bd4-700a-4fd0-f352-54cbfcb2ddb3",
        "colab": {
          "base_uri": "https://localhost:8080/",
          "height": 267
        }
      },
      "source": [
        "# plot the encoded image's feature maps\n",
        "encoded_img = encoded_imgs[6]  # get the 7th image from the batch (7th image in the plot above)\n",
        "\n",
        "fig = plt.figure(figsize=(4,4))\n",
        "for fm in range(encoded_img.shape[0]):\n",
        "    ax = fig.add_subplot(2, 2, fm+1, xticks=[], yticks=[])\n",
        "    ax.set_title(f'feature map: {fm}')\n",
        "    ax.imshow(encoded_img[fm], cmap='gray')\n",
        "\n",
        "plt.show()\n",
        "fig.savefig('sample_encodes/encoded_img_4')\n",
        "plt.close()"
      ],
      "execution_count": 10,
      "outputs": [
        {
          "output_type": "display_data",
          "data": {
            "image/png": "[encoded data removed]",
            "text/plain": [
              "<Figure size 288x288 with 4 Axes>"
            ]
          },
          "metadata": {
            "tags": []
          }
        }
      ]
    },
    {
      "cell_type": "code",
      "metadata": {
        "id": "xhQE_c2G6BOl",
        "outputId": "e3a1e86b-20a3-420a-cfc7-6a011529b6f1",
        "colab": {
          "base_uri": "https://localhost:8080/",
          "height": 267
        }
      },
      "source": [
        "# again, cause why not?\n",
        "encoded_img = encoded_imgs[0]  # get 1st image from the batch (here '7')\n",
        "\n",
        "fig = plt.figure(figsize=(4,4))\n",
        "for fm in range(encoded_img.shape[0]):\n",
        "    ax = fig.add_subplot(2, 2, fm+1, xticks=[], yticks=[])\n",
        "    ax.set_title(f'feature map: {fm}')\n",
        "    ax.imshow(encoded_img[fm], cmap='gray')\n",
        "\n",
        "plt.show()\n",
        "fig.savefig('sample_encodes/encoded_img_7')\n",
        "plt.close()"
      ],
      "execution_count": 11,
      "outputs": [
        {
          "output_type": "display_data",
          "data": {
            "image/png": "[encoded data removed]",
            "text/plain": [
              "<Figure size 288x288 with 4 Axes>"
            ]
          },
          "metadata": {
            "tags": []
          }
        }
      ]
    }
  ]
}